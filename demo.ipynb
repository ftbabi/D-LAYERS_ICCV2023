{
 "cells": [
  {
   "cell_type": "code",
   "execution_count": null,
   "metadata": {},
   "outputs": [],
   "source": [
    "import json\n",
    "import numpy as np\n",
    "from layers.datasets import LayersReader\n",
    "\n",
    "# For visualization\n",
    "from layers.utils import MeshViewer, select_verts_faces"
   ]
  },
  {
   "cell_type": "code",
   "execution_count": null,
   "metadata": {},
   "outputs": [],
   "source": [
    "# Variables\n",
    "data_root = 'data/demo'\n",
    "smpl_dir = 'data/smpl'\n",
    "sample = '00396'\n",
    "frame = 3\n",
    "\n",
    "layers_reader = LayersReader(data_root, smpl_dir)\n",
    "# For visualization\n",
    "m_viewer = MeshViewer()"
   ]
  },
  {
   "cell_type": "code",
   "execution_count": null,
   "metadata": {},
   "outputs": [],
   "source": [
    "infos = layers_reader.read_info(sample)\n",
    "print(json.dumps(infos, indent=4))"
   ]
  },
  {
   "cell_type": "code",
   "execution_count": null,
   "metadata": {},
   "outputs": [],
   "source": [
    "# Display human\n",
    "h_V, h_F = layers_reader.read_human(sample, frame)\n",
    "m_viewer.add_mesh(h_V, h_F)\n",
    "m_viewer.show()"
   ]
  },
  {
   "cell_type": "code",
   "execution_count": null,
   "metadata": {},
   "outputs": [],
   "source": [
    "# Visualize garments and templates\n",
    "g_Ts = []\n",
    "g_Fs = []\n",
    "infos = layers_reader.read_info(sample)\n",
    "for g_cfg in infos['garment']:\n",
    "    g_V, g_F, T = layers_reader.read_garment_vertices_topology(sample, g_cfg['name'], frame)\n",
    "    m_viewer.add_mesh(g_V, g_F)\n",
    "    g_Ts.append(T)\n",
    "    g_Fs.append(g_F)\n",
    "m_viewer.add_mesh(h_V, h_F)\n",
    "m_viewer.show()"
   ]
  },
  {
   "cell_type": "code",
   "execution_count": null,
   "metadata": {},
   "outputs": [],
   "source": [
    "# Visualize T-pose\n",
    "h_V_rest = layers_reader.read_human_rest(sample)\n",
    "m_viewer.add_mesh(h_V_rest, h_F)\n",
    "for T, F in zip(g_Ts, g_Fs):\n",
    "    m_viewer.add_mesh(T, F)\n",
    "m_viewer.show()"
   ]
  },
  {
   "cell_type": "code",
   "execution_count": null,
   "metadata": {},
   "outputs": [],
   "source": [
    "# Visualize UV mappings\n",
    "for g_idx, g_cfg in enumerate(infos['garment']):\n",
    "    uv_groups = layers_reader.read_garment_UVMap(sample, g_cfg['name'])\n",
    "    for vg_name, uv_map in uv_groups.items():\n",
    "        Vt_dict = uv_map['vertices']\n",
    "        Ft = uv_map['faces']\n",
    "        filtered_V, filtered_F = select_verts_faces(Vt_dict, Ft)\n",
    "        filtered_V = np.concatenate([np.zeros((filtered_V.shape[0], 1)), filtered_V], axis=-1)\n",
    "        m_viewer.add_mesh(filtered_V, filtered_F)\n",
    "    m_viewer.show()"
   ]
  },
  {
   "cell_type": "code",
   "execution_count": null,
   "metadata": {},
   "outputs": [],
   "source": []
  }
 ],
 "metadata": {
  "interpreter": {
   "hash": "fcd0add5d39ba7d8aac67fe3f564b13436311bed0bd7c5028852ca86eccc001a"
  },
  "kernelspec": {
   "display_name": "Python 3.8.17 64-bit ('LAYERS': conda)",
   "language": "python",
   "name": "python3"
  },
  "language_info": {
   "codemirror_mode": {
    "name": "ipython",
    "version": 3
   },
   "file_extension": ".py",
   "mimetype": "text/x-python",
   "name": "python",
   "nbconvert_exporter": "python",
   "pygments_lexer": "ipython3",
   "version": "3.8.17"
  },
  "orig_nbformat": 4
 },
 "nbformat": 4,
 "nbformat_minor": 2
}
